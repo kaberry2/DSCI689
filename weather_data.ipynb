{
 "cells": [
  {
   "cell_type": "code",
   "execution_count": 1,
   "metadata": {},
   "outputs": [],
   "source": [
    "import pandas as pd\n",
    "import datetime as dt\n",
    "import seaborn as sns"
   ]
  },
  {
   "cell_type": "code",
   "execution_count": 2,
   "metadata": {},
   "outputs": [],
   "source": [
    "weather_df = pd.read_csv(\"https://raw.githubusercontent.com/kaberry2/DSCI689/main/datasets/muncie_weather.csv\")\n",
    "entries_df = pd.read_csv(\"https://raw.githubusercontent.com/kaberry2/DSCI689/main/datasets/entries.csv\")"
   ]
  },
  {
   "cell_type": "code",
   "execution_count": 3,
   "metadata": {},
   "outputs": [
    {
     "data": {
      "text/plain": [
       "(8929, 28)"
      ]
     },
     "execution_count": 3,
     "metadata": {},
     "output_type": "execute_result"
    }
   ],
   "source": [
    "weather_df.shape\n"
   ]
  },
  {
   "cell_type": "code",
   "execution_count": 4,
   "metadata": {},
   "outputs": [
    {
     "data": {
      "text/html": [
       "<div>\n",
       "<style scoped>\n",
       "    .dataframe tbody tr th:only-of-type {\n",
       "        vertical-align: middle;\n",
       "    }\n",
       "\n",
       "    .dataframe tbody tr th {\n",
       "        vertical-align: top;\n",
       "    }\n",
       "\n",
       "    .dataframe thead th {\n",
       "        text-align: right;\n",
       "    }\n",
       "</style>\n",
       "<table border=\"1\" class=\"dataframe\">\n",
       "  <thead>\n",
       "    <tr style=\"text-align: right;\">\n",
       "      <th></th>\n",
       "      <th>dt</th>\n",
       "      <th>dt_iso</th>\n",
       "      <th>timezone</th>\n",
       "      <th>city_name</th>\n",
       "      <th>lat</th>\n",
       "      <th>lon</th>\n",
       "      <th>temp</th>\n",
       "      <th>visibility</th>\n",
       "      <th>dew_point</th>\n",
       "      <th>feels_like</th>\n",
       "      <th>...</th>\n",
       "      <th>wind_gust</th>\n",
       "      <th>rain_1h</th>\n",
       "      <th>rain_3h</th>\n",
       "      <th>snow_1h</th>\n",
       "      <th>snow_3h</th>\n",
       "      <th>clouds_all</th>\n",
       "      <th>weather_id</th>\n",
       "      <th>weather_main</th>\n",
       "      <th>weather_description</th>\n",
       "      <th>weather_icon</th>\n",
       "    </tr>\n",
       "  </thead>\n",
       "  <tbody>\n",
       "    <tr>\n",
       "      <th>0</th>\n",
       "      <td>1609459200</td>\n",
       "      <td>2021-01-01 00:00:00 +0000 UTC</td>\n",
       "      <td>-18000</td>\n",
       "      <td>Muncie</td>\n",
       "      <td>40.193377</td>\n",
       "      <td>-85.38636</td>\n",
       "      <td>269.33</td>\n",
       "      <td>10000.0</td>\n",
       "      <td>267.15</td>\n",
       "      <td>265.49</td>\n",
       "      <td>...</td>\n",
       "      <td>0.0</td>\n",
       "      <td>NaN</td>\n",
       "      <td>NaN</td>\n",
       "      <td>NaN</td>\n",
       "      <td>NaN</td>\n",
       "      <td>75</td>\n",
       "      <td>803</td>\n",
       "      <td>Clouds</td>\n",
       "      <td>broken clouds</td>\n",
       "      <td>04n</td>\n",
       "    </tr>\n",
       "    <tr>\n",
       "      <th>1</th>\n",
       "      <td>1609462800</td>\n",
       "      <td>2021-01-01 01:00:00 +0000 UTC</td>\n",
       "      <td>-18000</td>\n",
       "      <td>Muncie</td>\n",
       "      <td>40.193377</td>\n",
       "      <td>-85.38636</td>\n",
       "      <td>269.29</td>\n",
       "      <td>10000.0</td>\n",
       "      <td>266.97</td>\n",
       "      <td>265.44</td>\n",
       "      <td>...</td>\n",
       "      <td>0.0</td>\n",
       "      <td>NaN</td>\n",
       "      <td>NaN</td>\n",
       "      <td>NaN</td>\n",
       "      <td>NaN</td>\n",
       "      <td>1</td>\n",
       "      <td>800</td>\n",
       "      <td>Clear</td>\n",
       "      <td>sky is clear</td>\n",
       "      <td>01n</td>\n",
       "    </tr>\n",
       "    <tr>\n",
       "      <th>2</th>\n",
       "      <td>1609466400</td>\n",
       "      <td>2021-01-01 02:00:00 +0000 UTC</td>\n",
       "      <td>-18000</td>\n",
       "      <td>Muncie</td>\n",
       "      <td>40.193377</td>\n",
       "      <td>-85.38636</td>\n",
       "      <td>268.82</td>\n",
       "      <td>10000.0</td>\n",
       "      <td>266.79</td>\n",
       "      <td>264.88</td>\n",
       "      <td>...</td>\n",
       "      <td>0.0</td>\n",
       "      <td>NaN</td>\n",
       "      <td>NaN</td>\n",
       "      <td>NaN</td>\n",
       "      <td>NaN</td>\n",
       "      <td>1</td>\n",
       "      <td>800</td>\n",
       "      <td>Clear</td>\n",
       "      <td>sky is clear</td>\n",
       "      <td>01n</td>\n",
       "    </tr>\n",
       "    <tr>\n",
       "      <th>3</th>\n",
       "      <td>1609470000</td>\n",
       "      <td>2021-01-01 03:00:00 +0000 UTC</td>\n",
       "      <td>-18000</td>\n",
       "      <td>Muncie</td>\n",
       "      <td>40.193377</td>\n",
       "      <td>-85.38636</td>\n",
       "      <td>268.41</td>\n",
       "      <td>10000.0</td>\n",
       "      <td>265.96</td>\n",
       "      <td>263.85</td>\n",
       "      <td>...</td>\n",
       "      <td>0.0</td>\n",
       "      <td>NaN</td>\n",
       "      <td>NaN</td>\n",
       "      <td>NaN</td>\n",
       "      <td>NaN</td>\n",
       "      <td>1</td>\n",
       "      <td>800</td>\n",
       "      <td>Clear</td>\n",
       "      <td>sky is clear</td>\n",
       "      <td>01n</td>\n",
       "    </tr>\n",
       "    <tr>\n",
       "      <th>4</th>\n",
       "      <td>1609473600</td>\n",
       "      <td>2021-01-01 04:00:00 +0000 UTC</td>\n",
       "      <td>-18000</td>\n",
       "      <td>Muncie</td>\n",
       "      <td>40.193377</td>\n",
       "      <td>-85.38636</td>\n",
       "      <td>268.84</td>\n",
       "      <td>10000.0</td>\n",
       "      <td>266.81</td>\n",
       "      <td>265.53</td>\n",
       "      <td>...</td>\n",
       "      <td>0.0</td>\n",
       "      <td>NaN</td>\n",
       "      <td>NaN</td>\n",
       "      <td>NaN</td>\n",
       "      <td>NaN</td>\n",
       "      <td>1</td>\n",
       "      <td>800</td>\n",
       "      <td>Clear</td>\n",
       "      <td>sky is clear</td>\n",
       "      <td>01n</td>\n",
       "    </tr>\n",
       "  </tbody>\n",
       "</table>\n",
       "<p>5 rows × 28 columns</p>\n",
       "</div>"
      ],
      "text/plain": [
       "           dt                         dt_iso  timezone city_name        lat  \\\n",
       "0  1609459200  2021-01-01 00:00:00 +0000 UTC    -18000    Muncie  40.193377   \n",
       "1  1609462800  2021-01-01 01:00:00 +0000 UTC    -18000    Muncie  40.193377   \n",
       "2  1609466400  2021-01-01 02:00:00 +0000 UTC    -18000    Muncie  40.193377   \n",
       "3  1609470000  2021-01-01 03:00:00 +0000 UTC    -18000    Muncie  40.193377   \n",
       "4  1609473600  2021-01-01 04:00:00 +0000 UTC    -18000    Muncie  40.193377   \n",
       "\n",
       "        lon    temp  visibility  dew_point  feels_like  ...  wind_gust  \\\n",
       "0 -85.38636  269.33     10000.0     267.15      265.49  ...        0.0   \n",
       "1 -85.38636  269.29     10000.0     266.97      265.44  ...        0.0   \n",
       "2 -85.38636  268.82     10000.0     266.79      264.88  ...        0.0   \n",
       "3 -85.38636  268.41     10000.0     265.96      263.85  ...        0.0   \n",
       "4 -85.38636  268.84     10000.0     266.81      265.53  ...        0.0   \n",
       "\n",
       "   rain_1h  rain_3h  snow_1h  snow_3h  clouds_all  weather_id  weather_main  \\\n",
       "0      NaN      NaN      NaN      NaN          75         803        Clouds   \n",
       "1      NaN      NaN      NaN      NaN           1         800         Clear   \n",
       "2      NaN      NaN      NaN      NaN           1         800         Clear   \n",
       "3      NaN      NaN      NaN      NaN           1         800         Clear   \n",
       "4      NaN      NaN      NaN      NaN           1         800         Clear   \n",
       "\n",
       "   weather_description  weather_icon  \n",
       "0        broken clouds           04n  \n",
       "1         sky is clear           01n  \n",
       "2         sky is clear           01n  \n",
       "3         sky is clear           01n  \n",
       "4         sky is clear           01n  \n",
       "\n",
       "[5 rows x 28 columns]"
      ]
     },
     "execution_count": 4,
     "metadata": {},
     "output_type": "execute_result"
    }
   ],
   "source": [
    "weather_df.head()"
   ]
  },
  {
   "cell_type": "code",
   "execution_count": 5,
   "metadata": {},
   "outputs": [
    {
     "data": {
      "text/plain": [
       "(458791, 10)"
      ]
     },
     "execution_count": 5,
     "metadata": {},
     "output_type": "execute_result"
    }
   ],
   "source": [
    "entries_df.shape"
   ]
  },
  {
   "cell_type": "markdown",
   "metadata": {},
   "source": [
    "## Cleaning / Grouping Dates"
   ]
  },
  {
   "cell_type": "code",
   "execution_count": 6,
   "metadata": {},
   "outputs": [
    {
     "data": {
      "text/html": [
       "<div>\n",
       "<style scoped>\n",
       "    .dataframe tbody tr th:only-of-type {\n",
       "        vertical-align: middle;\n",
       "    }\n",
       "\n",
       "    .dataframe tbody tr th {\n",
       "        vertical-align: top;\n",
       "    }\n",
       "\n",
       "    .dataframe thead th {\n",
       "        text-align: right;\n",
       "    }\n",
       "</style>\n",
       "<table border=\"1\" class=\"dataframe\">\n",
       "  <thead>\n",
       "    <tr style=\"text-align: right;\">\n",
       "      <th></th>\n",
       "      <th>hour</th>\n",
       "      <th>date</th>\n",
       "    </tr>\n",
       "  </thead>\n",
       "  <tbody>\n",
       "    <tr>\n",
       "      <th>0</th>\n",
       "      <td>0</td>\n",
       "      <td>2021-01-01</td>\n",
       "    </tr>\n",
       "    <tr>\n",
       "      <th>1</th>\n",
       "      <td>1</td>\n",
       "      <td>2021-01-01</td>\n",
       "    </tr>\n",
       "    <tr>\n",
       "      <th>2</th>\n",
       "      <td>2</td>\n",
       "      <td>2021-01-01</td>\n",
       "    </tr>\n",
       "    <tr>\n",
       "      <th>3</th>\n",
       "      <td>3</td>\n",
       "      <td>2021-01-01</td>\n",
       "    </tr>\n",
       "    <tr>\n",
       "      <th>4</th>\n",
       "      <td>4</td>\n",
       "      <td>2021-01-01</td>\n",
       "    </tr>\n",
       "    <tr>\n",
       "      <th>...</th>\n",
       "      <td>...</td>\n",
       "      <td>...</td>\n",
       "    </tr>\n",
       "    <tr>\n",
       "      <th>8924</th>\n",
       "      <td>19</td>\n",
       "      <td>2021-12-31</td>\n",
       "    </tr>\n",
       "    <tr>\n",
       "      <th>8925</th>\n",
       "      <td>20</td>\n",
       "      <td>2021-12-31</td>\n",
       "    </tr>\n",
       "    <tr>\n",
       "      <th>8926</th>\n",
       "      <td>21</td>\n",
       "      <td>2021-12-31</td>\n",
       "    </tr>\n",
       "    <tr>\n",
       "      <th>8927</th>\n",
       "      <td>22</td>\n",
       "      <td>2021-12-31</td>\n",
       "    </tr>\n",
       "    <tr>\n",
       "      <th>8928</th>\n",
       "      <td>23</td>\n",
       "      <td>2021-12-31</td>\n",
       "    </tr>\n",
       "  </tbody>\n",
       "</table>\n",
       "<p>8929 rows × 2 columns</p>\n",
       "</div>"
      ],
      "text/plain": [
       "      hour        date\n",
       "0        0  2021-01-01\n",
       "1        1  2021-01-01\n",
       "2        2  2021-01-01\n",
       "3        3  2021-01-01\n",
       "4        4  2021-01-01\n",
       "...    ...         ...\n",
       "8924    19  2021-12-31\n",
       "8925    20  2021-12-31\n",
       "8926    21  2021-12-31\n",
       "8927    22  2021-12-31\n",
       "8928    23  2021-12-31\n",
       "\n",
       "[8929 rows x 2 columns]"
      ]
     },
     "execution_count": 6,
     "metadata": {},
     "output_type": "execute_result"
    }
   ],
   "source": [
    "weather_df['timestamp'] = pd.to_datetime(weather_df['dt'], unit = 's')\n",
    "weather_df['hour'] = pd.DatetimeIndex(weather_df['timestamp']).hour\n",
    "weather_df['date'] = pd.DatetimeIndex(weather_df['timestamp']).date\n",
    "weather_df.loc[:, ['hour', 'date']]\n"
   ]
  },
  {
   "cell_type": "code",
   "execution_count": 7,
   "metadata": {},
   "outputs": [
    {
     "data": {
      "text/plain": [
       "Index(['dt', 'dt_iso', 'timezone', 'city_name', 'lat', 'lon', 'temp',\n",
       "       'visibility', 'dew_point', 'feels_like', 'temp_min', 'temp_max',\n",
       "       'pressure', 'sea_level', 'grnd_level', 'humidity', 'wind_speed',\n",
       "       'wind_deg', 'wind_gust', 'rain_1h', 'rain_3h', 'snow_1h', 'snow_3h',\n",
       "       'clouds_all', 'weather_id', 'weather_main', 'weather_description',\n",
       "       'weather_icon', 'timestamp', 'hour', 'date'],\n",
       "      dtype='object')"
      ]
     },
     "execution_count": 7,
     "metadata": {},
     "output_type": "execute_result"
    }
   ],
   "source": [
    "weather_df.columns"
   ]
  },
  {
   "cell_type": "markdown",
   "metadata": {},
   "source": [
    "## Converting Kelvin / Other SI Units to Imperial Units (boo)"
   ]
  },
  {
   "cell_type": "code",
   "execution_count": 8,
   "metadata": {},
   "outputs": [],
   "source": [
    "weather_df['temp'] = (weather_df['temp']-273.15)*1.8 + 32\n",
    "weather_df['rain_1h'] = weather_df['rain_1h']/2.54\n",
    "weather_df['rain_3h'] = weather_df['rain_3h']/2.54\n",
    "weather_df['snow_1h'] = weather_df['snow_1h']/2.54\n",
    "weather_df['snow_3h'] = weather_df['snow_3h']/2.54\n",
    "weather_df['wind_speed'] = weather_df['wind_speed']*2.237\n"
   ]
  },
  {
   "cell_type": "markdown",
   "metadata": {},
   "source": [
    "## Grouping / Aggregating based on Day"
   ]
  },
  {
   "cell_type": "markdown",
   "metadata": {},
   "source": []
  },
  {
   "cell_type": "code",
   "execution_count": 9,
   "metadata": {},
   "outputs": [],
   "source": [
    "aggregated_weather_df = weather_df.groupby('date').agg({'temp': ['mean', 'min', 'max'],\n",
    "                                                       'humidity': 'mean',\n",
    "                                                       'wind_speed': 'mean',\n",
    "                                                       'rain_1h': 'median',\n",
    "                                                       'rain_3h': 'median',\n",
    "                                                       'snow_1h': 'median',\n",
    "                                                       'snow_3h': 'median'})\n",
    "\n",
    "aggregated_weather_df.columns = ['temp_mean', 'temp_min', 'temp_max', 'humidity_mean', 'wind_speed_mean', \n",
    "                                'rain_1h_median', 'rain_3h_median', 'snow_1h_median', 'snow_3h_median']\n",
    "\n",
    "aggregated_weather_df = aggregated_weather_df.reset_index()"
   ]
  },
  {
   "cell_type": "markdown",
   "metadata": {},
   "source": []
  },
  {
   "cell_type": "code",
   "execution_count": null,
   "metadata": {},
   "outputs": [],
   "source": []
  },
  {
   "cell_type": "code",
   "execution_count": 10,
   "metadata": {},
   "outputs": [],
   "source": [
    "# from pathlib import Path\n",
    "# path = Path(\"C:/Users/Collin/Desktop/Academic/Courses/DSCI 689/Group Analysis/agg_weather.csv\")\n",
    "# path.parent.mkdir(parents = True, exist_ok = True)\n",
    "# aggregated_weather_df.to_csv(path)"
   ]
  },
  {
   "cell_type": "code",
   "execution_count": null,
   "metadata": {},
   "outputs": [],
   "source": []
  }
 ],
 "metadata": {
  "kernelspec": {
   "display_name": "Python 3",
   "language": "python",
   "name": "python3"
  },
  "language_info": {
   "codemirror_mode": {
    "name": "ipython",
    "version": 3
   },
   "file_extension": ".py",
   "mimetype": "text/x-python",
   "name": "python",
   "nbconvert_exporter": "python",
   "pygments_lexer": "ipython3",
   "version": "3.8.5"
  }
 },
 "nbformat": 4,
 "nbformat_minor": 4
}
